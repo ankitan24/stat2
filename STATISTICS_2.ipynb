{
  "nbformat": 4,
  "nbformat_minor": 0,
  "metadata": {
    "colab": {
      "provenance": []
    },
    "kernelspec": {
      "name": "python3",
      "display_name": "Python 3"
    },
    "language_info": {
      "name": "python"
    }
  },
  "cells": [
    {
      "cell_type": "markdown",
      "source": [
        "1. Explain the properties of the F-distribution."
      ],
      "metadata": {
        "id": "puVlur2THmtm"
      }
    },
    {
      "cell_type": "markdown",
      "source": [
        "The properties of F-distributuion are:-\n",
        "\n",
        " 1.Based on shape of the F-distribution is right-skewed and its shape depends on the degrees of freedom (df) of both the numerator and the denominator.\n",
        "\n",
        " 2.Based on degree of freedom it is of two types numerator and denominator degree of freedom.\n",
        "\n",
        " 3.Based on range ,The F-distribution takes only positive values.\n",
        "\n",
        " 4. Probability Density function.\n",
        "\n",
        " 5. Cummulative distributive function."
      ],
      "metadata": {
        "id": "yR5RZO1mHmqH"
      }
    },
    {
      "cell_type": "markdown",
      "source": [
        "2. In which types of statistical tests is the F-distribution used, and why is it appropriate for these tests?\n",
        "\n",
        "\n",
        "\n"
      ],
      "metadata": {
        "id": "DLlo4BvKHmm4"
      }
    },
    {
      "cell_type": "markdown",
      "source": [
        "The F-distribution is appropriate for these tests because it arises from the ratio of two sample variances, each of which follows a chi-squared distribution (scaled by their respective degrees of freedom).\n",
        "\n",
        "1.ANOVA compares the variance between group means (called the \"between-group variance\") to the variance within groups (called the \"within-group variance\").\n",
        "\n",
        "2.The F-statistic in regression is computed as the ratio of the explained variance (due to the regression model) to the unexplained variance (due to residual error).\n",
        "\n",
        "3.The F-distribution is appropriate because it describes the distribution of a ratio of two independent chi-squared random variables divided by their respective degrees of freedom.\n"
      ],
      "metadata": {
        "id": "DX0m7gIsHmj3"
      }
    },
    {
      "cell_type": "markdown",
      "source": [
        "3. What are the key assumptions required for conducting an F-test to compare the variances of two\n",
        "populations?"
      ],
      "metadata": {
        "id": "_1KecjnZHmgf"
      }
    },
    {
      "cell_type": "markdown",
      "source": [
        "The key assumptions required for conducting an F-test to compare the variances of two populations:-\n",
        "\n",
        "1. The samples drawn from both populations must be independent of each other. This means that the observations in one sample do not influence the observations in the other sample.\n",
        "\n",
        "2.The populations from which the samples are drawn should ideally follow a normal distribution (or at least be approximately normal).\n",
        "\n",
        "3.The samples should be drawn randomly from the populations, ensuring that each observation has an equal chance of being selected."
      ],
      "metadata": {
        "id": "JQZ5ldLUHlw_"
      }
    },
    {
      "cell_type": "markdown",
      "source": [
        "4. What is the purpose of ANOVA, and how does it differ from a t-test?"
      ],
      "metadata": {
        "id": "qY4A3sUWM7JS"
      }
    },
    {
      "cell_type": "markdown",
      "source": [
        "The purpose of ANOVA and how does it differ from a t-test:-\n",
        "\n",
        "1.ANOVA is typically used when you have more than two groups and want to compare their means to see if at least one is significantly different from the others.\n",
        "\n",
        "2.ANOVA is commonly used in experimental designs where the goal is to see if different treatments (e.g., different drug dosages, teaching methods) affect an outcome (e.g., test scores).\n",
        "\n",
        "3.ANOVA partitions the total variability in the data into variability between groups and within groups.\n",
        "\n",
        "It differ from a t-test:-\n",
        "\n",
        "1.t-test: Typically used to compare the means of two groups (e.g., treatment vs. control, male vs. female),ANOVA: Used to compare the means of three or more groups. It generalizes the concept of the t-test to multiple groups.\n",
        "\n",
        "2.t-test: When comparing more than two groups, multiple t-tests would be required. However, performing multiple t-tests increases the risk of a Type I error (false positive), as each test introduces a chance of error.\n",
        "ANOVA: ANOVA controls for the overall Type I error rate when comparing multiple groups. It evaluates all groups simultaneously in one test, so it is more efficient and statistically sound than multiple t-tests.\n",
        "\n"
      ],
      "metadata": {
        "id": "AogV57YeM7Fy"
      }
    },
    {
      "cell_type": "markdown",
      "source": [
        "5. Explain when and why you would use a one-way ANOVA instead of multiple t-tests when comparing more\n",
        "than two groups.\n"
      ],
      "metadata": {
        "id": "Ab6ndDi9M7Ce"
      }
    },
    {
      "cell_type": "markdown",
      "source": [
        "When comparing more than two groups, you would use a one-way ANOVA instead of multiple t-tests for several important reasons, primarily related to statistical validity and control of Type I error.\n",
        "\n",
        "1.One of the main reasons to use one-way ANOVA instead of multiple t-tests is to control for the Type I error rate (the probability of incorrectly rejecting the null hypothesis). Each time you conduct a statistical test, there's a chance of a false positive (Type I error). When comparing multiple groups, performing multiple t-tests increases the chance of finding at least one significant result purely by random chance.\n",
        "\n",
        "2.One-way ANOVA is more efficient than conducting multiple t-tests because it tests all group differences in a single statistical model.\n",
        "Multiple t-tests require repeated calculation and comparison of p-values, which increases the risk of errors and is computationally more intensive as the number of groups increases.\n",
        "\n",
        "3.A t-test can only compare the means between two groups at a time, so when comparing multiple groups, you would need to test all possible pairs of groups using a separate t-test. This approach does not provide a direct test of the hypothesis that all groups are equal, but rather focuses on pairwise comparisons."
      ],
      "metadata": {
        "id": "QjlkR1jQM6_q"
      }
    },
    {
      "cell_type": "markdown",
      "source": [
        "6. Explain how variance is partitioned in ANOVA into between-group variance and within-group variance.\n",
        "How does this partitioning contribute to the calculation of the F-statistic?"
      ],
      "metadata": {
        "id": "SYavztvkQj-b"
      }
    },
    {
      "cell_type": "markdown",
      "source": [
        "\n",
        "Variance Partitioning in ANOVA\n",
        "In Analysis of Variance (ANOVA), the total variance observed in the data is partitioned into two components: between-group variance and within-group variance. This partitioning helps in determining whether the differences in group means are large enough to be considered statistically significant.\n",
        "\n",
        "1.The total variance is the overall variation in the data, which is calculated by measuring the deviations of each observation from the grand mean (the mean of all observations across all groups). The Total Sum of Squares (SST) quantifies this total variance.\n",
        "\n",
        "2.The between-group variance represents the variation due to differences between the group means. In other words, it measures how much the means of different groups deviate from the overall grand mean. If the group means are very different from each other, the between-group variance will be large.\n",
        "\n",
        "3.The within-group variance measures the variation within each group, or how much individual observations in each group differ from their respective group mean. If there is little variation within the groups, the within-group variance will be small."
      ],
      "metadata": {
        "id": "8yb363rHQj68"
      }
    },
    {
      "cell_type": "markdown",
      "source": [
        "The classical (frequentist) and Bayesian approaches to Analysis of Variance (ANOVA) differ in how they treat uncertainty, estimate parameters, and perform hypothesis testing. Below, we’ll compare these two approaches across several key aspects:\n",
        "\n",
        "1.Handling Uncertainty:-\n",
        "\n",
        "Frequentist Approach (Classical ANOVA):\n",
        "\n",
        "In the frequentist framework, uncertainty is primarily dealt with through the sampling distribution of estimators. The focus is on long-run frequency properties of estimators, such as their bias, variance, and consistency.\n",
        "\n",
        "Bayesian Approach:\n",
        "\n",
        "In the Bayesian approach, uncertainty is treated probabilistically. Instead of relying on the sampling distribution, Bayesian methods assign probabilities to parameters based on prior information and the data at hand.\n",
        "\n",
        "2.Parameter estimation:-\n",
        "\n",
        "Frequentist Approach (Classical ANOVA):\n",
        "\n",
        "Parameters (e.g., means, variances) are estimated as point estimates using maximum likelihood or least squares estimation, which aims to find values that make the observed data most probable.\n",
        "\n",
        "Bayesian Approach:\n",
        "\n",
        "Parameters are treated as random variables with prior distributions, reflecting any existing beliefs or knowledge about the parameters before observing the data.\n",
        "\n",
        "3. Hypothesis Testing:-\n",
        "\n",
        "Frequentist Approach (Classical ANOVA):\n",
        "\n",
        "Hypothesis testing is central in classical ANOVA. The null hypothesis (e.g., that all group means are equal) is tested using an F-statistic, which compares the variance between group means to the variance within groups.\n",
        "Bayesian Approach:\n",
        "\n",
        "In the Bayesian approach, hypothesis testing is done through the comparison of posterior distributions rather than through p-values. Common Bayesian approaches include:\n",
        "\n",
        "Bayes factors: The Bayes factor compares the likelihood of the data under two competing hypotheses (e.g., null vs. alternative). It quantifies how much more likely the data are under one hypothesis compared to the other.\n",
        "\n",
        "Posterior probabilities: Instead of testing hypotheses in a binary way, Bayesian analysis evaluates the probability of various hypotheses given the data, allowing for a more nuanced understanding."
      ],
      "metadata": {
        "id": "gungy_C6Qj5I"
      }
    },
    {
      "cell_type": "markdown",
      "source": [
        "8. Question: You have two sets of data representing the incomes of two different professions1\n",
        "Profession A: [48, 52, 55, 60, 62']\n",
        "Profession B: [45, 50, 55, 52, 47] Perform an F-test to determine if the variances of the two professions'\n",
        "incomes are equal. What are your conclusions based on the F-test?\n",
        "\n",
        "Task: Use Python to calculate the F-statistic and p-value for the given data.\n",
        "\n",
        "Objective: Gain experience in performing F-tests and interpreting the results in terms of variance comparison"
      ],
      "metadata": {
        "id": "CbKiqnQJQj2f"
      }
    },
    {
      "cell_type": "code",
      "source": [
        "import numpy as np\n",
        "import scipy.stats as stats\n",
        "\n",
        "# Data for both professions\n",
        "profession_A = np.array([48, 52, 55, 60, 62])\n",
        "profession_B = np.array([45, 50, 55, 52, 47])\n",
        "\n",
        "# Calculate sample variances\n",
        "var_A = np.var(profession_A, ddof=1)  # sample variance for A\n",
        "var_B = np.var(profession_B, ddof=1)  # sample variance for B\n",
        "\n",
        "# Determine which variance is larger\n",
        "F_statistic = var_A / var_B if var_A > var_B else var_B / var_A\n",
        "\n",
        "# Degrees of freedom\n",
        "df_A = len(profession_A) - 1\n",
        "df_B = len(profession_B) - 1\n",
        "\n",
        "# Calculate the p-value using the F-distribution\n",
        "p_value = 2 * min(stats.f.cdf(F_statistic, df_A, df_B), 1 - stats.f.cdf(F_statistic, df_A, df_B))\n",
        "\n",
        "# Output results\n",
        "print(f\"Variance of Profession A: {var_A:.2f}\")\n",
        "print(f\"Variance of Profession B: {var_B:.2f}\")\n",
        "print(f\"F-statistic: {F_statistic:.2f}\")\n",
        "print(f\"P-value: {p_value:.4f}\")\n",
        "\n",
        "# Conclusion\n",
        "alpha = 0.05\n",
        "if p_value < alpha:\n",
        "    print(\"The variances are significantly different.\")\n",
        "else:\n",
        "    print( \"The variances are not significantly different.\")\n"
      ],
      "metadata": {
        "colab": {
          "base_uri": "https://localhost:8080/"
        },
        "id": "6DaCgIjZnfEM",
        "outputId": "e36b15e7-f88d-472a-b79c-15e39a79d83d"
      },
      "execution_count": 1,
      "outputs": [
        {
          "output_type": "stream",
          "name": "stdout",
          "text": [
            "Variance of Profession A: 32.80\n",
            "Variance of Profession B: 15.70\n",
            "F-statistic: 2.09\n",
            "P-value: 0.4930\n",
            "The variances are not significantly different.\n"
          ]
        }
      ]
    },
    {
      "cell_type": "markdown",
      "source": [
        "9. Question: Conduct a one-way ANOVA to test whether there are any statistically significant differences in\n",
        "average heights between three different regions with the following data1:\n",
        "\n",
        " Region A: [160, 162, 165, 158, 164'\n",
        "\n",
        " Region B: [172, 175, 170, 168, 174'\n",
        "\n",
        " Region C: [180, 182, 179, 185, 183'\n",
        "\n",
        " Task: Write Python code to perform the one-way ANOVA and interpret the results\n",
        "\n",
        " Objective: Learn how to perform one-way ANOVA using Python and interpret F-statistic and p-value."
      ],
      "metadata": {
        "id": "g8uTV2U4Qjzw"
      }
    },
    {
      "cell_type": "code",
      "source": [
        "import numpy as np\n",
        "import scipy.stats as stats\n",
        "\n",
        "# Data for the three regions\n",
        "region_A = np.array([160, 162, 165, 158, 164])\n",
        "region_B = np.array([172, 175, 170, 168, 174])\n",
        "region_C = np.array([180, 182, 179, 185, 183])\n",
        "\n",
        "# Perform one-way ANOVA\n",
        "f_statistic, p_value = stats.f_oneway(region_A, region_B, region_C)\n",
        "\n",
        "# Output results\n",
        "print(f\"F-statistic: {f_statistic:.4f}\")\n",
        "print(f\"P-value: {p_value:.4f}\")\n",
        "\n",
        "# Conclusion\n",
        "alpha = 0.05\n",
        "if p_value < alpha:\n",
        "    print(\" There are statistically significant differences in average heights between the regions.\")\n",
        "else:\n",
        "    print(\"There are no statistically significant differences in average heights between the regions.\")\n"
      ],
      "metadata": {
        "colab": {
          "base_uri": "https://localhost:8080/"
        },
        "id": "8pAR65U_oM68",
        "outputId": "d9126993-bd52-453f-a22d-d4d6003ecb2c"
      },
      "execution_count": 2,
      "outputs": [
        {
          "output_type": "stream",
          "name": "stdout",
          "text": [
            "F-statistic: 67.8733\n",
            "P-value: 0.0000\n",
            " There are statistically significant differences in average heights between the regions.\n"
          ]
        }
      ]
    }
  ]
}